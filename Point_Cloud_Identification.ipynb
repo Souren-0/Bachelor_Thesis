{
 "cells": [
  {
   "cell_type": "markdown",
   "id": "d7ae7156-dfc7-4ce2-a1d0-4c25c2c1ca4d",
   "metadata": {},
   "source": [
    "# Point Cloud Identification"
   ]
  },
  {
   "cell_type": "markdown",
   "id": "5c090082-772c-4706-9716-0825b961802b",
   "metadata": {},
   "source": [
    "### Usage\n",
    "\n",
    "#### Important global variables\n",
    "- `chip_data` contains the complete data from the chip organised into tiles.\n",
    "- `sorted_cells` contains all cell instances sorted by cell type.\n",
    "- `cell_types` contains all the types of the cells\n",
    "- `cell_box` contains representative box sizes for each cell type\n",
    "- `representatives` contains representative via positions of a cell type\n",
    "\n",
    "#### Important functions\n",
    "\n",
    "- `get_aligned_vias(cell_type: str, num_cells : int = 100)` will return a list of all the vias of 100 cells of the given type and the calculated via count. Aligning the cells is very slow so for now I recommend only using up to a few thousand cells.\n",
    "- `find_representative_vias(cell_type)` returns an array of a common via positioning for a given cell type\n",
    "\n",
    "#### Cool functions\n",
    "- `visualize_cells()` allows navigation and visualization of all cells by user input\n",
    "\n",
    "### What I am trying to achieve:\n",
    "\n",
    "Identifying cell types by using their via positions. Each cell is assigned a cell type; however, not all cells belong to the cell type they are assigned to. My goal is to find cells that differ too much from the cells of their own type and thus may be trojans. To do so, I will use the clustering approach from [Via_Clustering.ipynb] by Lukas Plätz to find representative via positions for each cell type. Then the cells will be compared to their representative type cells with different distance measures such as *Hausdorff, Chamfer, Earth Mover's, Jaccard, or Edit Distance*. I will evaluate the performance of each measure with the aim to find a measure that can robustely identify point clouds even when data is augmented.\n"
   ]
  },
  {
   "cell_type": "markdown",
   "id": "621840a7-feb3-4fc7-89f4-f00ce8bc6225",
   "metadata": {},
   "source": [
    "## Imports"
   ]
  },
  {
   "cell_type": "code",
   "execution_count": 237,
   "id": "50f9b9cc-32e0-47c1-bc83-8b248df11443",
   "metadata": {},
   "outputs": [],
   "source": [
    "import re\n",
    "import math\n",
    "import json\n",
    "import pickle\n",
    "import numpy as np\n",
    "\n",
    "from typing import Any\n",
    "from numpy.typing import NDArray\n",
    "\n",
    "from copy import deepcopy\n",
    "from collections import Counter\n",
    "\n",
    "from tqdm import tqdm\n",
    "from scipy import stats\n",
    "from matplotlib import pyplot as plt\n",
    "plt.style.use('dark_background')\n"
   ]
  },
  {
   "cell_type": "markdown",
   "id": "a317b373-2bb3-43bd-b7c6-1a4b8c6b4eab",
   "metadata": {},
   "source": [
    "## Generate synthetic dataset"
   ]
  },
  {
   "cell_type": "code",
   "execution_count": null,
   "id": "804a7534",
   "metadata": {},
   "outputs": [],
   "source": [
    "# # Generating synthetic dataset of the same structure as the chip data with only 2 tiles, 10 cell types, each cell containing no more than 50 vias\n",
    "# import random\n",
    "# test_types = [f\"TEST_TYPE{i+1}\" for i in range(10)]\n",
    "# test_type_boxes = {test_types[i-1] : ((0, 0), (100*i, 100*i)) for i in range(1, len(test_types)+1)}\n",
    "# test_type_representatives = {test_types[i-1] : [(random.uniform(10, 80*i),random.uniform(10, 80*i)) for _ in range(2*i)] for i in range(1, len(test_types)+1)}\n",
    "\n",
    "\n",
    "# def jitter_vias(vias, box, jitter_range=0.02):\n",
    "#     (x_min, y_min), (x_max, y_max) = box\n",
    "#     box_diagonal = ((x_max - x_min)**2 + (y_max - y_min)**2) ** 0.5\n",
    "#     jitter_range = round(box_diagonal * jitter_range)\n",
    "#     jittered = []\n",
    "#     for x, y in vias:\n",
    "#         new_x = min(max(x + random.randint(-jitter_range, jitter_range), x_min), x_max)\n",
    "#         new_y = min(max(y + random.randint(-jitter_range, jitter_range), y_min), y_max)\n",
    "#         jittered.append((new_x, new_y))\n",
    "#     return jittered\n",
    "\n",
    "# def delete_vias(vias, amount=0.25):\n",
    "#     return random.sample(vias, len(vias) - round(len(vias) * amount))\n",
    "\n",
    "# def add_vias(vias, box, amount=0.25):\n",
    "#     (x_min, y_min), (x_max, y_max) = box\n",
    "#     new_vias = [(random.randint(x_min, x_max), random.randint(y_min, y_max)) for _ in range(round(len(vias) * amount))]\n",
    "#     return vias + new_vias\n",
    "\n",
    "# test_cells = []\n",
    "# for test_type in test_types:\n",
    "#     box = test_type_boxes[test_type]\n",
    "#     for i in range(500):\n",
    "#         vias = test_type_representatives[test_type]\n",
    "#         if i < 100:\n",
    "#             vias = jitter_vias(vias, box)\n",
    "#         elif i < 200:\n",
    "#             vias = delete_vias(vias)\n",
    "#         elif i < 300:\n",
    "#             vias = add_vias(vias, box)\n",
    "#         elif i < 350:\n",
    "#             vias = jitter_vias(delete_vias(vias), box)\n",
    "#         elif i < 400:\n",
    "#             vias = add_vias(jitter_vias(vias, box), box)\n",
    "#         elif i < 450:\n",
    "#             vias = add_vias(delete_vias(vias), box)\n",
    "#         else:\n",
    "#             vias = jitter_vias(delete_vias(add_vias(vias, box)), box)\n",
    "#         cell = {\"box\" : test_type_boxes[test_type],\n",
    "#                 \"data\" : {'magnification': 0,\n",
    "#                           'name': test_type,\n",
    "#                           'reflection': False,\n",
    "#                           'rotation': 0},\n",
    "#                 \"image\" : f\"image/{test_type}/{i}\",\n",
    "#                 \"vias\" : vias}\n",
    "#         test_cells.append(cell)\n",
    "\n",
    "# test_data = {\"Test_tile_1\" : test_cells[:2500], \"Test_tile_2\" : test_cells[2500:]}"
   ]
  },
  {
   "cell_type": "code",
   "execution_count": null,
   "id": "f8eda241",
   "metadata": {},
   "outputs": [],
   "source": [
    "# with open(\"./Data/Test_Data.pickle\", \"wb\") as f:\n",
    "#     pickle.dump(test_data, f)\n",
    "# with open(\"representatives_test_data.json\", \"w\") as f:\n",
    "#     json.dump(test_type_representatives, f)"
   ]
  },
  {
   "cell_type": "markdown",
   "id": "6bb33c42",
   "metadata": {},
   "source": [
    "## Load data"
   ]
  },
  {
   "cell_type": "code",
   "execution_count": null,
   "id": "f06d5a00-a6fe-4529-94d2-86dc01b934ca",
   "metadata": {},
   "outputs": [],
   "source": [
    "datasets = {\n",
    "    \"28nm_chip\" : { 'path' : './Data/Chip_Data_28nm.pickle', 'representatives' : 'representatives_28nm_chip.json' },\n",
    "    \"test_data\" : { 'path' : './Data/Test_Data.pickle', 'representatives' : 'representatives_test_data.json'}}\n",
    "\n",
    "dataset = \"test_data\"\n",
    "chip_data_file = datasets[dataset][\"path\"]\n",
    "\n",
    "chip_data = None\n",
    "with open(chip_data_file, \"rb\") as f:\n",
    "    chip_data = pickle.load(f)\n",
    "\n",
    "tile_list = list(chip_data.keys())\n",
    "all_cells = []\n",
    "for tile in tile_list:\n",
    "    all_cells += chip_data[tile]\n",
    "\n",
    "sorted_cells = {}\n",
    "for cell in all_cells:\n",
    "    if cell[\"data\"][\"name\"] not in sorted_cells.keys():\n",
    "        sorted_cells[cell[\"data\"][\"name\"]] = [cell]\n",
    "    else:\n",
    "        sorted_cells[cell[\"data\"][\"name\"]].append(cell)\n",
    "\n",
    "cell_types = list(sorted_cells.keys())\n",
    "\n",
    "try:\n",
    "    with open(datasets[dataset][\"representatives\"], \"r\") as f:\n",
    "        representatives = json.load(f)\n",
    "except FileNotFoundError:\n",
    "    representatives = {}"
   ]
  },
  {
   "cell_type": "markdown",
   "id": "b2d71009-5dbe-4972-ad7e-35ae76ad42f4",
   "metadata": {},
   "source": [
    "## Utilities"
   ]
  },
  {
   "cell_type": "markdown",
   "id": "4ceb5ae2-0784-47af-939a-2f32710e8ee3",
   "metadata": {},
   "source": [
    "### Cell Via utilities (From [Via_Clustering.ipynb])"
   ]
  },
  {
   "cell_type": "code",
   "execution_count": 4,
   "id": "bd65cca0-11c2-42c0-aa2e-cccb8cae2eb0",
   "metadata": {},
   "outputs": [],
   "source": [
    "def euk_dist_sq(p1 : tuple[int, int], p2 : tuple[int, int]) -> int:\n",
    "    return pow(p1[0] - p2[0], 2) + pow(p1[1] - p2[1], 2)\n",
    "\n",
    "def euk_dist(p1 : tuple[int, int], p2 : tuple[int, int]) -> float:\n",
    "    return math.sqrt(euk_dist_sq(p1, p2))\n",
    "\n",
    "def add_pts(p1 : tuple[int, int], p2 : tuple[int, int]) -> tuple[int, int]:\n",
    "    return p1[0] + p2[0], p1[1] + p2[1]\n",
    "\n",
    "def diff_pts(p1 : tuple[int, int], p2 : tuple[int, int]) -> tuple[int, int]:\n",
    "    return p1[0] - p2[0], p1[1] - p2[1]\n",
    "\n",
    "def rotate_cell_180(cell : dict[str, Any]) -> dict[str, Any]:\n",
    "    cell = deepcopy(cell)\n",
    "    box = cell[\"box\"]\n",
    "    box_width = box[1][0] - box[0][0]\n",
    "    box_height = box[1][1] - box[0][1]\n",
    "    # reflect y and reflect x == rotate 180\n",
    "    cell[\"vias\"] = [(v[0], box_height - v[1]) for v in cell[\"vias\"]]\n",
    "    cell[\"vias\"] = [(box_width - v[0], v[1]) for v in cell[\"vias\"]]\n",
    "    return cell\n",
    "\n",
    "def reflect_cell(cell : dict[str, Any], axis : str) -> dict[str, Any]:\n",
    "    assert axis in [\"Y\", \"X\", \"y\", \"x\"], \"Invalid axis given.\"\n",
    "    cell = deepcopy(cell)\n",
    "    box = cell[\"box\"]\n",
    "    box_width = box[1][0] - box[0][0]\n",
    "    box_height = box[1][1] - box[0][1]\n",
    "    if axis.lower() == \"y\":\n",
    "        cell[\"vias\"] = [(v[0], box_height - v[1]) for v in cell[\"vias\"]] # powerline direction Y\n",
    "    else:\n",
    "        cell[\"vias\"] = [(box_width - v[0], v[1]) for v in cell[\"vias\"]] # powerline direction X_filtered\n",
    "    return cell\n",
    "\n",
    "def reset_transform(cell : dict[str, Any], powerline_direction : str) -> dict[str, Any]:\n",
    "    \"\"\"Transform the cell back to rotation = 0 and no reflection.\"\"\"\n",
    "\n",
    "    if cell[\"data\"][\"rotation\"] == 180 and cell[\"data\"][\"reflection\"]:\n",
    "        return reflect_cell(cell, \"x\" if powerline_direction == \"y\" else \"y\")\n",
    "    if cell[\"data\"][\"rotation\"] == 180:\n",
    "        return rotate_cell_180(cell)\n",
    "    if cell[\"data\"][\"reflection\"]:\n",
    "        return reflect_cell(cell, powerline_direction)\n",
    "    return cell\n",
    "\n",
    "# try to match pts1 to pts2\n",
    "def score_matching(pts1 : list[tuple[int, int]], pts2 : list[tuple[int, int]]) -> int:\n",
    "    \"\"\"Try to match the set of points 1 to points 2. The points of set 1 are matched to the closest\n",
    "    point in set 2. The resulting score is the sum of the distances\"\"\"\n",
    "\n",
    "    min_dists = []\n",
    "    for p1 in pts1:\n",
    "        dists = [euk_dist_sq(p1, p2) for p2 in pts2]\n",
    "        min_dists.append(min(dists))\n",
    "    return sum(min_dists)\n",
    "\n",
    "def align_to_point(vias : list[tuple[int, int]], point : tuple[int, int]):\n",
    "    return [diff_pts(point, v) for v in vias]\n",
    "\n",
    "def align_cells(cell1_vias : list[tuple[int, int]], cell2_vias : list[tuple[int, int]], itr_count: int = 5):\n",
    "    \"\"\" Given to sets of vias (points) try to align them as well as possible. For the optimal results all points\n",
    "    would have to be tested but in all cases 5 works well enough. To use all points set itr_count to -1.\"\"\"\n",
    "\n",
    "    cell1, cell2 = deepcopy(cell1_vias), deepcopy(cell2_vias)\n",
    "    min_scores = []\n",
    "\n",
    "    for p1 in cell1[:itr_count]:\n",
    "        # Set the chosen via in cell1 to (0, 0).\n",
    "        p1_aligned_cell1 = align_to_point(cell1, p1)\n",
    "\n",
    "        # Make a list where every point in cell2 is aligned to (0, 0) once.\n",
    "        alignments_p2 = [(p2, align_to_point(cell2, p2)) for p2 in cell2]\n",
    "\n",
    "        # Score all the alignments bettween cell1 and cell2\n",
    "        fitting_scores = [(p1, p2, score_matching(c2, p1_aligned_cell1)) for p2, c2 in alignments_p2]\n",
    "\n",
    "        min_scores.append(min(fitting_scores, key = lambda x : x[2]))\n",
    "    p1_alignment, p2_alignment, score = min(min_scores, key = lambda x : x[2])\n",
    "    aligned_cell1, aligned_cell2 = [diff_pts(p1, p1_alignment) for p1 in cell1], [diff_pts(p2, p2_alignment) for p2 in cell2]\n",
    "    aligned_cell1, aligned_cell2 = [add_pts(p1, p1_alignment) for p1 in aligned_cell1], [add_pts(p2, p1_alignment) for p2 in aligned_cell2]\n",
    "    return aligned_cell1, aligned_cell2\n",
    "\n",
    "def get_aligned_vias(cell_type: str, num_cells : int = 100, alignment_itr : int = 7) -> tuple[int, np.array]:\n",
    "    \"\"\"Choose a cell type and get a list of all the aligned vias from a chosen number of instances.\"\"\"\n",
    "    # Transform all the cells to the same orientation\n",
    "    cells = [reset_transform(c, \"y\") for c in sorted_cells[cell_type]]\n",
    "\n",
    "    # Majority vote on the number of vias in the cell\n",
    "    via_counter = Counter([len(cell[\"vias\"]) for cell in cells])\n",
    "    via_count = via_counter.most_common(1)[0][0]\n",
    "\n",
    "    # Choose a good starting cell\n",
    "    start_cell = None\n",
    "    for i, cell in enumerate(cells):\n",
    "        if len(cell[\"vias\"]) == via_count:\n",
    "            start_cell = cells.pop(i)\n",
    "            break\n",
    "    assert start_cell is not None, \"Something went wrong. Start cell should not be None.\"\n",
    "\n",
    "    # Extract all aligned vias from the cells\n",
    "    all_vias = deepcopy(start_cell[\"vias\"])\n",
    "    for cell in cells[:num_cells]:\n",
    "        _, vias_p2  = align_cells(start_cell[\"vias\"], cell[\"vias\"], itr_count=alignment_itr)\n",
    "        all_vias += vias_p2\n",
    "    return via_count, np.array(all_vias)"
   ]
  },
  {
   "cell_type": "markdown",
   "id": "5f6cb4ba",
   "metadata": {},
   "source": [
    "## Data Overview"
   ]
  },
  {
   "cell_type": "markdown",
   "id": "6740a725",
   "metadata": {},
   "source": [
    "### Scope of the data"
   ]
  },
  {
   "cell_type": "code",
   "execution_count": 249,
   "id": "bd17b72d",
   "metadata": {},
   "outputs": [
    {
     "name": "stderr",
     "output_type": "stream",
     "text": [
      "  0%|          | 0/500 [00:00<?, ?it/s]\n",
      "  0%|          | 0/500 [00:00<?, ?it/s]\n",
      "  0%|          | 0/500 [00:00<?, ?it/s]\n",
      "  0%|          | 0/500 [00:00<?, ?it/s]\n",
      "  0%|          | 0/500 [00:00<?, ?it/s]\n",
      "  0%|          | 0/500 [00:00<?, ?it/s]\n",
      "  0%|          | 0/500 [00:00<?, ?it/s]\n",
      "  0%|          | 0/500 [00:00<?, ?it/s]\n",
      "  0%|          | 0/500 [00:00<?, ?it/s]\n",
      "  0%|          | 0/500 [00:00<?, ?it/s]\n"
     ]
    }
   ],
   "source": [
    "cell_types_without_vias = [] # Assuming that if one cell of a type contains vias, all the other cells of same type also do\n",
    "for type in cell_types:\n",
    "    cells = sorted_cells[type]\n",
    "    via = False\n",
    "    for cell in tqdm(cells):\n",
    "        if cell['vias'] != []:\n",
    "            via = True\n",
    "            break\n",
    "    if not via: cell_types_without_vias.append(type)\n"
   ]
  },
  {
   "cell_type": "code",
   "execution_count": 251,
   "id": "12efed9f",
   "metadata": {},
   "outputs": [
    {
     "name": "stdout",
     "output_type": "stream",
     "text": [
      "Total cell types: 10\n",
      "Cell types that don't contain vias: 0\n",
      "[] \n",
      "\n",
      "Out of 5000 total cells, 5000 contain vias, meaning that only these cells can later be identified with the help of distance measures\n"
     ]
    }
   ],
   "source": [
    "print(\"Total cell types:\", len(cell_types))\n",
    "print(\"Cell types that don't contain vias:\", len(cell_types_without_vias))\n",
    "print(cell_types_without_vias, '\\n')\n",
    "\n",
    "sum_all_cells = sum([len(sorted_cells[cell_type]) for cell_type in cell_types])\n",
    "sum_no_via_cells = sum([len(sorted_cells[cell_type]) for cell_type in cell_types_without_vias])\n",
    "print(f\"Out of {sum_all_cells} total cells, {sum_all_cells - sum_no_via_cells} contain vias, meaning \"\n",
    "      \"that only these cells can later be identified with the help of distance measures\")"
   ]
  },
  {
   "cell_type": "markdown",
   "id": "57234e20",
   "metadata": {},
   "source": [
    "### Analyzing box sizes of cell types"
   ]
  },
  {
   "cell_type": "code",
   "execution_count": 252,
   "id": "0268e450",
   "metadata": {},
   "outputs": [],
   "source": [
    "# Count all box sizes of each cell type to see if and how much their sizes differ from each other\n",
    "cell_boxes = {}\n",
    "for cell_type in cell_types:\n",
    "    cell_boxes[cell_type] = Counter()\n",
    "\n",
    "    cells = sorted_cells[cell_type]\n",
    "    for cell in cells:\n",
    "        top_left, bottom_right = cell['box']\n",
    "        box_size = (bottom_right[0] - top_left[0], bottom_right[1] - top_left[1])\n",
    "        cell_boxes[cell_type][box_size] += 1"
   ]
  },
  {
   "cell_type": "code",
   "execution_count": null,
   "id": "a80579ef",
   "metadata": {},
   "outputs": [
    {
     "name": "stdout",
     "output_type": "stream",
     "text": [
      "TEST_TYPE1 appears with 1 different box sizes: Counter({(100, 100): 500})\n"
     ]
    }
   ],
   "source": [
    "# Find a cell type that contains the largest variations of box sizes\n",
    "cell_type, max_boxes = None, []\n",
    "for type, boxes in cell_boxes.items():\n",
    "    if len(boxes) > len(max_boxes):\n",
    "        cell_type, max_boxes = type, boxes\n",
    "\n",
    "print(f\"{cell_type} appears with {len(max_boxes)} different box sizes: {max_boxes}\")"
   ]
  },
  {
   "cell_type": "code",
   "execution_count": 254,
   "id": "dc0105fd",
   "metadata": {},
   "outputs": [
    {
     "name": "stdout",
     "output_type": "stream",
     "text": [
      "One cell type with the greatest width deviation is TEST_TYPE1 with a deviation of 0\n",
      "One cell type with the greatest height deviation is TEST_TYPE1 with a deviation of 0\n"
     ]
    }
   ],
   "source": [
    "# Find cell types with the greatest height and width deviation\n",
    "def deviation(l: list):\n",
    "    return max(l) - min(l)\n",
    "\n",
    "(cell_type_for_width, max_dev_width), (cell_type_for_height, max_dev_height) = (None, -1), (None, -1)\n",
    "for type, boxes in cell_boxes.items():\n",
    "    widths, heights = zip(*boxes)\n",
    "    dev_width, dev_height = deviation(widths), deviation(heights)\n",
    "\n",
    "    if dev_width > max_dev_width:\n",
    "        cell_type_for_width = type\n",
    "        max_dev_width = dev_width\n",
    "\n",
    "    if dev_height > max_dev_height:\n",
    "        cell_type_for_height = type\n",
    "        max_dev_height = dev_height\n",
    "    \n",
    "print(f\"One cell type with the greatest width deviation is {cell_type_for_width} with a deviation of {max_dev_width}\")\n",
    "print(f\"One cell type with the greatest height deviation is {cell_type_for_height} with a deviation of {max_dev_height}\")"
   ]
  },
  {
   "cell_type": "code",
   "execution_count": 10,
   "id": "4e801491",
   "metadata": {},
   "outputs": [],
   "source": [
    "# => All boxes of a specific cell type are effectively the same size, with negligible deviations most likely caused by image resolution and processing errors\n",
    "# This is important for normalizing the distance measures later"
   ]
  },
  {
   "cell_type": "code",
   "execution_count": 255,
   "id": "f9237b13",
   "metadata": {},
   "outputs": [],
   "source": [
    "# Choose the biggest cell box for each cell as a representative box for that cell\n",
    "cell_box = {}\n",
    "for type, boxes in cell_boxes.items():\n",
    "    widths, heights = zip(*boxes)\n",
    "    cell_box[type] = (max(widths), max(heights))"
   ]
  },
  {
   "cell_type": "markdown",
   "id": "be6bdb5d",
   "metadata": {},
   "source": [
    "## Choosing representative vias per cell type"
   ]
  },
  {
   "cell_type": "code",
   "execution_count": 12,
   "id": "92650a12",
   "metadata": {},
   "outputs": [],
   "source": [
    "# I will first use the Bayesian Gaussian Mixture Model (BGMM), used in [Via_Clustering], to cluster common via positions per cell type\n",
    "# These via positions will later represent a \"perfect\" cell of a specific type to which other cells will be compared to\n",
    "# Based on the similarity between these cells, we will decide which of the cells might be mislabeled (trojans)"
   ]
  },
  {
   "cell_type": "code",
   "execution_count": 13,
   "id": "b9de7e2e",
   "metadata": {},
   "outputs": [],
   "source": [
    "from sklearn.mixture import BayesianGaussianMixture\n",
    "\n",
    "def find_representative_vias(cell_type) -> NDArray[np.float64]:\n",
    "    via_count, cell_vias = get_aligned_vias(cell_type, num_cells=1000)\n",
    "    lose_upper_bound = int(via_count*(1.5))\n",
    "    lose_lower_bound_weights = (1)/lose_upper_bound\n",
    "\n",
    "    bgmm = BayesianGaussianMixture(\n",
    "        n_components=lose_upper_bound,\n",
    "        covariance_type='spherical',\n",
    "        mean_precision_prior=.001,\n",
    "    )\n",
    "    bgmm.fit(cell_vias)\n",
    "\n",
    "    predicted_via_clusters = bgmm.predict(cell_vias)\n",
    "    predicted_via_clusters[bgmm.weights_[predicted_via_clusters] < lose_lower_bound_weights] = -1\n",
    "\n",
    "    means = bgmm.means_[bgmm.weights_ > lose_lower_bound_weights]\n",
    "    \n",
    "    plt.scatter(*cell_vias.T, c=predicted_via_clusters, alpha=0.1)\n",
    "    plt.scatter(means[:, 0], means[:, 1], marker='x', c='r')\n",
    "    plt.show()\n",
    "    return np.array(means)"
   ]
  },
  {
   "cell_type": "code",
   "execution_count": 14,
   "id": "abd3253f",
   "metadata": {},
   "outputs": [
    {
     "data": {
      "image/png": "[encoded data removed]",
      "text/plain": [
       "<Figure size 640x480 with 1 Axes>"
      ]
     },
     "metadata": {},
     "output_type": "display_data"
    },
    {
     "data": {
      "text/plain": [
       "array([[ 50.9166771, 128.4131551],\n",
       "       [ 26.2813634,  25.4270259]])"
      ]
     },
     "execution_count": 14,
     "metadata": {},
     "output_type": "execute_result"
    }
   ],
   "source": [
    "find_representative_vias('AES')"
   ]
  },
  {
   "cell_type": "code",
   "execution_count": null,
   "id": "a1ed766d",
   "metadata": {},
   "outputs": [],
   "source": [
    "# Well well well, BGMM does not perform as expected... switching to kmeans with clearing outliers to improve precision of the representative via positions\n",
    "# This approach is also heavily based on the code by Lukas Plätz [Via_Clustering.ipynb]\n",
    "from sklearn.cluster import KMeans\n",
    "\n",
    "def find_representative_vias(cell_type, plot=False) -> NDArray:\n",
    "    via_count, cell_vias = get_aligned_vias(cell_type, num_cells=15)\n",
    "    print(via_count)\n",
    "    filtered_vias = deepcopy(cell_vias)\n",
    "\n",
    "    kmeans = KMeans(n_clusters=via_count)\n",
    "    kmeans.fit(cell_vias)\n",
    "\n",
    "    sigma_old = 100\n",
    "    sigma = 0\n",
    "\n",
    "    while sigma_old != sigma:\n",
    "        labels = kmeans.labels_\n",
    "\n",
    "        distances = np.zeros(len(filtered_vias))\n",
    "        for i in range(len(filtered_vias)):\n",
    "            cluster_center = kmeans.cluster_centers_[labels[i]]\n",
    "            distances[i] = np.linalg.norm(filtered_vias[i] - cluster_center)\n",
    "\n",
    "        sigma_old = sigma\n",
    "        _, sigma = stats.halfnorm.fit(distances) # If the distances are normal distributed then the absolute vales are halfnormal distributed\n",
    "        \n",
    "        if sigma == sigma_old:\n",
    "            break\n",
    "\n",
    "        normal_distributed = stats.gzscore(distances + np.finfo(float).eps, nan_policy='omit')\n",
    "\n",
    "        # Find points within threshold\n",
    "        is_inlier_n = normal_distributed <= 3\n",
    "        filtered_vias = filtered_vias[is_inlier_n]  # Filter option can be adapted\n",
    "\n",
    "        kmeans.fit(filtered_vias)\n",
    "    \n",
    "    means = kmeans.cluster_centers_\n",
    "\n",
    "    if plot:\n",
    "        predicted_via_clusters = kmeans.predict(cell_vias)\n",
    "        plt.scatter(*zip(*cell_vias), c=predicted_via_clusters, alpha=0.3)\n",
    "        plt.scatter(*zip(*means), marker='x', c='r')\n",
    "\n",
    "    return means"
   ]
  },
  {
   "cell_type": "code",
   "execution_count": null,
   "id": "9d2f74bf",
   "metadata": {},
   "outputs": [
    {
     "name": "stdout",
     "output_type": "stream",
     "text": [
      "15\n"
     ]
    },
    {
     "data": {
      "text/plain": [
       "<matplotlib.collections.PathCollection at 0x1d22cf68770>"
      ]
     },
     "execution_count": 247,
     "metadata": {},
     "output_type": "execute_result"
    },
    {
     "data": {
      "image/png": "[encoded data removed]",
      "text/plain": [
       "<Figure size 640x480 with 1 Axes>"
      ]
     },
     "metadata": {},
     "output_type": "display_data"
    }
   ],
   "source": [
    "find_representative_vias('TEST_TYPE10', plot=True)\n",
    "plt.scatter(*zip(*representatives['TEST_TYPE10']), marker='s', s=20, c='green')\n",
    "# Looks much better...."
   ]
  },
  {
   "cell_type": "code",
   "execution_count": null,
   "id": "d97c7b9e",
   "metadata": {},
   "outputs": [
    {
     "name": "stderr",
     "output_type": "stream",
     "text": [
      "  0%|          | 0/50 [00:00<?, ?it/s]"
     ]
    },
    {
     "name": "stdout",
     "output_type": "stream",
     "text": [
      "AZO\n"
     ]
    },
    {
     "name": "stderr",
     "output_type": "stream",
     "text": [
      "  2%|▏         | 1/50 [00:00<00:42,  1.17it/s]"
     ]
    },
    {
     "name": "stdout",
     "output_type": "stream",
     "text": [
      "AXK\n"
     ]
    },
    {
     "name": "stderr",
     "output_type": "stream",
     "text": [
      "  4%|▍         | 2/50 [00:01<00:39,  1.21it/s]"
     ]
    },
    {
     "name": "stdout",
     "output_type": "stream",
     "text": [
      "AZE\n"
     ]
    },
    {
     "name": "stderr",
     "output_type": "stream",
     "text": [
      " 10%|█         | 5/50 [00:02<00:15,  2.95it/s]"
     ]
    },
    {
     "name": "stdout",
     "output_type": "stream",
     "text": [
      "LS\n",
      "BFC\n",
      "BEI\n"
     ]
    },
    {
     "name": "stderr",
     "output_type": "stream",
     "text": [
      " 16%|█▌        | 8/50 [00:08<00:49,  1.19s/it]"
     ]
    },
    {
     "name": "stdout",
     "output_type": "stream",
     "text": [
      "BEE\n",
      "BDS\n",
      "AGE\n",
      "ATW\n"
     ]
    },
    {
     "name": "stderr",
     "output_type": "stream",
     "text": [
      " 26%|██▌       | 13/50 [00:09<00:16,  2.28it/s]"
     ]
    },
    {
     "name": "stdout",
     "output_type": "stream",
     "text": [
      "AFW\n",
      "AFU\n",
      "ATM\n",
      "AUA\n"
     ]
    },
    {
     "name": "stderr",
     "output_type": "stream",
     "text": [
      " 32%|███▏      | 16/50 [00:09<00:11,  3.02it/s]"
     ]
    },
    {
     "name": "stdout",
     "output_type": "stream",
     "text": [
      "AFO\n",
      "BCQ\n",
      "ASK\n"
     ]
    },
    {
     "name": "stderr",
     "output_type": "stream",
     "text": [
      " 36%|███▌      | 18/50 [00:10<00:08,  3.69it/s]"
     ]
    },
    {
     "name": "stdout",
     "output_type": "stream",
     "text": [
      "BCM\n"
     ]
    },
    {
     "name": "stderr",
     "output_type": "stream",
     "text": [
      " 40%|████      | 20/50 [00:10<00:05,  5.13it/s]"
     ]
    },
    {
     "name": "stdout",
     "output_type": "stream",
     "text": [
      "AFK\n",
      "AJK\n",
      "AFM\n",
      "ATK\n",
      "AOA\n"
     ]
    },
    {
     "name": "stderr",
     "output_type": "stream",
     "text": [
      " 46%|████▌     | 23/50 [00:10<00:04,  5.83it/s]"
     ]
    },
    {
     "name": "stdout",
     "output_type": "stream",
     "text": [
      "ANG\n"
     ]
    },
    {
     "name": "stderr",
     "output_type": "stream",
     "text": [
      " 50%|█████     | 25/50 [00:11<00:04,  5.39it/s]"
     ]
    },
    {
     "name": "stdout",
     "output_type": "stream",
     "text": [
      "AEG\n",
      "AWE\n"
     ]
    },
    {
     "name": "stderr",
     "output_type": "stream",
     "text": [
      " 56%|█████▌    | 28/50 [00:11<00:02,  7.41it/s]"
     ]
    },
    {
     "name": "stdout",
     "output_type": "stream",
     "text": [
      "GK\n",
      "AWI\n",
      "BC\n"
     ]
    },
    {
     "name": "stderr",
     "output_type": "stream",
     "text": [
      " 58%|█████▊    | 29/50 [00:11<00:03,  5.96it/s]"
     ]
    },
    {
     "name": "stdout",
     "output_type": "stream",
     "text": [
      "ASI\n"
     ]
    },
    {
     "name": "stderr",
     "output_type": "stream",
     "text": [
      " 60%|██████    | 30/50 [00:12<00:04,  4.01it/s]"
     ]
    },
    {
     "name": "stdout",
     "output_type": "stream",
     "text": [
      "AXI\n"
     ]
    },
    {
     "name": "stderr",
     "output_type": "stream",
     "text": [
      " 62%|██████▏   | 31/50 [00:13<00:06,  3.00it/s]"
     ]
    },
    {
     "name": "stdout",
     "output_type": "stream",
     "text": [
      "ASC\n"
     ]
    },
    {
     "name": "stderr",
     "output_type": "stream",
     "text": [
      " 66%|██████▌   | 33/50 [02:34<07:18, 25.81s/it]"
     ]
    },
    {
     "name": "stdout",
     "output_type": "stream",
     "text": [
      "BFA\n",
      "BEQ\n"
     ]
    },
    {
     "name": "stderr",
     "output_type": "stream",
     "text": [
      " 68%|██████▊   | 34/50 [02:34<05:02, 18.88s/it]"
     ]
    },
    {
     "name": "stdout",
     "output_type": "stream",
     "text": [
      "BDO\n"
     ]
    },
    {
     "name": "stderr",
     "output_type": "stream",
     "text": [
      " 72%|███████▏  | 36/50 [02:34<02:18,  9.88s/it]"
     ]
    },
    {
     "name": "stdout",
     "output_type": "stream",
     "text": [
      "BCW\n",
      "BDK\n"
     ]
    },
    {
     "name": "stderr",
     "output_type": "stream",
     "text": [
      " 76%|███████▌  | 38/50 [02:35<01:01,  5.11s/it]"
     ]
    },
    {
     "name": "stdout",
     "output_type": "stream",
     "text": [
      "BDC\n",
      "BCU\n"
     ]
    },
    {
     "name": "stderr",
     "output_type": "stream",
     "text": [
      " 78%|███████▊  | 39/50 [02:35<00:40,  3.68s/it]"
     ]
    },
    {
     "name": "stdout",
     "output_type": "stream",
     "text": [
      "BCI\n",
      "BCK\n"
     ]
    },
    {
     "name": "stderr",
     "output_type": "stream",
     "text": [
      " 82%|████████▏ | 41/50 [02:36<00:20,  2.24s/it]"
     ]
    },
    {
     "name": "stdout",
     "output_type": "stream",
     "text": [
      "BCC\n",
      "AXC\n"
     ]
    },
    {
     "name": "stderr",
     "output_type": "stream",
     "text": [
      " 86%|████████▌ | 43/50 [02:37<00:10,  1.44s/it]"
     ]
    },
    {
     "name": "stdout",
     "output_type": "stream",
     "text": [
      "ARW\n"
     ]
    },
    {
     "name": "stderr",
     "output_type": "stream",
     "text": [
      " 88%|████████▊ | 44/50 [02:37<00:07,  1.23s/it]"
     ]
    },
    {
     "name": "stdout",
     "output_type": "stream",
     "text": [
      "ANO\n",
      "AQM\n"
     ]
    },
    {
     "name": "stderr",
     "output_type": "stream",
     "text": [
      " 94%|█████████▍| 47/50 [02:38<00:02,  1.40it/s]"
     ]
    },
    {
     "name": "stdout",
     "output_type": "stream",
     "text": [
      "APK\n",
      "AFY\n",
      "AUK\n"
     ]
    },
    {
     "name": "stderr",
     "output_type": "stream",
     "text": [
      " 98%|█████████▊| 49/50 [02:42<00:01,  1.29s/it]"
     ]
    },
    {
     "name": "stdout",
     "output_type": "stream",
     "text": [
      "AYA\n"
     ]
    },
    {
     "name": "stderr",
     "output_type": "stream",
     "text": [
      "100%|██████████| 50/50 [02:44<00:00,  3.29s/it]\n"
     ]
    }
   ],
   "source": [
    "# Extend representatives if needed\n",
    "extension = 0\n",
    "for type in tqdm(cell_types[len(representatives) : len(representatives) + extension]):\n",
    "    print(type)\n",
    "    representatives[type] = [[],[]] if type in cell_types_without_vias else find_representative_vias(type).tolist()\n",
    "\n",
    "# Save extension in the json file\n",
    "with open(datasets[dataset][\"representatives\"], \"w\") as f:\n",
    "    json.dump(representatives, f)"
   ]
  },
  {
   "cell_type": "code",
   "execution_count": 264,
   "id": "59702ba9",
   "metadata": {},
   "outputs": [
    {
     "name": "stdout",
     "output_type": "stream",
     "text": [
      "10\n",
      "{'TEST_TYPE1': [[60.74094212626994, 26.00235268518256], [65.5860461539286, 51.319849568464946]], 'TEST_TYPE2': [[80.17976955454162, 153.44147038022652], [10.294267720574403, 15.693861848453896], [131.10209937466126, 26.783514052815303], [111.47108767409088, 78.00793491639651]], 'TEST_TYPE3': [[218.20065477602722, 72.87459659881713], [213.69194072432984, 185.573730752994], [38.55731892268324, 64.09033912044632], [198.26437527252563, 20.47177286064003], [117.01438868515183, 84.1698509388479], [105.09282362632149, 24.644706881575132]], 'TEST_TYPE4': [[30.338534239614916, 166.51983860643307], [13.222370428610613, 149.17580725910491], [31.995787425381618, 300.6100970270948], [30.49606429111209, 285.48242056948664], [54.072015927322646, 238.90471781460218], [152.89817773281902, 195.9878909695906], [80.17299020444938, 125.91994230787427], [186.03756687416592, 155.9857741104468]], 'TEST_TYPE5': [[156.10836650923167, 16.24294379753149], [89.99961811059403, 129.48382025880358], [378.38927655557586, 260.6014016797818], [286.3365278489627, 165.23067864095933], [74.0509684409253, 121.07166061551226], [316.56578504447134, 354.8479796162444], [324.63726059353417, 46.61668112629466], [109.15328635280083, 378.57101986354917], [83.73449576049572, 286.3579690114588], [289.924283894631, 160.87999208736213]], 'TEST_TYPE6': [[177.8988842751668, 251.86440503812636], [309.37875535319864, 207.19338853122568], [143.90062191630813, 400.7990723722628], [259.0927410119924, 290.487114422159], [184.70755678372436, 248.72543988197017], [262.3708853249156, 206.51513054560888], [53.70962507060697, 250.20657280339898], [314.9501626593252, 465.23586628188656], [113.8700305425991, 294.6399493963656], [118.08813749198781, 262.8754950667252], [95.0701951917429, 405.3087691448144], [345.0549010577554, 231.33788584201181]], 'TEST_TYPE7': [[468.6229834274603, 525.1725904281247], [296.810178598037, 559.755712825215], [448.47485887553506, 424.95703560010236], [508.34788590637976, 54.30627864918318], [292.023123784924, 379.18965354817163], [273.06622626393107, 212.20325249910408], [391.07405550960794, 351.15195535082705], [511.693161553794, 102.97170275030982], [25.740859756354187, 409.7555539389557], [187.65991879465918, 80.08484812832017], [553.6010540143218, 283.232400053018], [331.5319711391875, 463.9815957289525], [367.6231718504258, 378.5383945242781], [232.3790228890954, 537.0900030393021]], 'TEST_TYPE8': [[186.52182660057363, 261.18521368256273], [553.8502556558063, 603.2596149205162], [46.75144989539955, 32.262926063254895], [414.16823563433843, 443.33940485860927], [359.92491790089565, 379.0549711885617], [166.4830187200172, 152.75080813794128], [233.53204258910085, 384.67963504183814], [453.7844979050514, 41.88322144675922], [445.3127496342343, 504.8802836818009], [34.19665953775174, 132.2545755585337], [413.7608261895279, 24.481906424805477], [634.5760489032343, 571.7674574109702], [326.24413971523535, 523.750332216512], [163.19144136241218, 458.79710665969816], [153.33407971775264, 431.0233665175754], [96.08008055582958, 14.450271068591029]], 'TEST_TYPE9': [[136.0942628770951, 110.08599529734629], [39.26868502999699, 445.3532523490155], [536.3524263406039, 135.34532747105698], [655.5591961105245, 598.9973030815845], [670.9803252697318, 688.0206256465121], [47.61627323200777, 388.34364576491095], [339.040685560136, 624.6093786006563], [323.186096896992, 272.79548437133906], [568.4451203630854, 122.12288723554329], [233.89191752566722, 307.22456213692465], [691.9483165219923, 559.1276360116491], [666.4323926821738, 33.95129602966875], [456.37392412621875, 289.3022503739932], [635.4041879183487, 638.5138968865626], [480.0965602988873, 228.2352152509946], [26.164905559812574, 608.5782663940801], [243.02080408325403, 257.2687031732879], [719.9864405826735, 303.89795092725797]], 'TEST_TYPE10': [[472.1786742229495, 599.0892073817612], [534.6573058302529, 222.77963053025832], [400.9901942028928, 461.2784702360771], [276.9755525456847, 120.93378520152436], [254.13615134161333, 554.4524239172625], [573.6026596975496, 724.9170230693765], [774.8632263753414, 488.0489037529397], [240.6621366565502, 217.9723296721937], [194.26018943557088, 50.83496607994269], [390.0343449837361, 123.94019859916958], [397.11853329969085, 368.2270557914334], [656.6994447816796, 594.6457410090594], [601.3334704127989, 760.4506269534405], [703.0249282711577, 505.8725297503578], [468.2348949210896, 507.67906311994346], [245.38772614241952, 276.38018373350803], [181.78751406904516, 644.4811972269704], [50.856161649016556, 510.7028807935151], [723.9091188461373, 163.49327838356848], [68.55153211328013, 523.7898962482152]]}\n"
     ]
    }
   ],
   "source": [
    "print(len(representatives))\n",
    "print(representatives)"
   ]
  },
  {
   "cell_type": "markdown",
   "id": "73a78cc8",
   "metadata": {},
   "source": [
    "## Visualizing vias in boxes"
   ]
  },
  {
   "cell_type": "code",
   "execution_count": 256,
   "id": "a7db1e17",
   "metadata": {},
   "outputs": [],
   "source": [
    "from matplotlib.patches import Rectangle\n",
    "from IPython.display import display, clear_output"
   ]
  },
  {
   "cell_type": "code",
   "execution_count": 260,
   "id": "18949000",
   "metadata": {},
   "outputs": [],
   "source": [
    "def display_cell(cursor, subcursor, fig, ax):\n",
    "    cell_type = cell_types[cursor]\n",
    "    cell = reset_transform(sorted_cells[cell_type][subcursor], \"y\")\n",
    "    box = cell_box[cell_type]\n",
    "    vias = zip(*cell['vias']) if cell['vias'] != [] else ([], [])\n",
    "    representative = zip(*representatives[cell_type])\\\n",
    "        if cell_type in representatives and representatives[cell_type] != [[],[]]\\\n",
    "        else ([], [])\n",
    "    \n",
    "    ax.clear()\n",
    "    ax.set_title(f\"{cell_type} ({cursor + 1}/{len(sorted_cells)}) ({subcursor + 1}/{len(sorted_cells[cell_type])})\")\n",
    "    ax.set_xlim(-0.25*box[0], 1.25*box[0])\n",
    "    ax.set_ylim(-0.25*box[1], 1.25*box[1])\n",
    "    ax.add_patch(Rectangle((0, 0), box[0], box[1], edgecolor='yellow', facecolor='none'))\n",
    "    ax.scatter(*representative, s=5, color='green')\n",
    "    ax.scatter(*vias, s=1, color='red')\n",
    "    display(fig)\n",
    "    clear_output(wait=True)\n"
   ]
  },
  {
   "cell_type": "code",
   "execution_count": 265,
   "id": "312b925e",
   "metadata": {},
   "outputs": [],
   "source": [
    "def visualize_cells():    \n",
    "    fig, ax = plt.subplots()\n",
    "\n",
    "    cursor = 0\n",
    "    subcursor = 0\n",
    "\n",
    "    allowed_inputs = {'enter' : '',\n",
    "                    'next' : 'n',\n",
    "                    'prev' : 'p',\n",
    "                    'jump' : r'\\d+',\n",
    "                    'next_cell' : r'c\\+',\n",
    "                    'prev_cell' : r'c\\-',\n",
    "                    'jump_cell' : r'c\\d+',\n",
    "                    'quit' : 'q'}\n",
    "\n",
    "    n = len(cell_types)\n",
    "    last_command = allowed_inputs['enter']\n",
    "\n",
    "    while True:\n",
    "        m = len(sorted_cells[cell_types[cursor]])\n",
    "        cursor %= n # type: ignore\n",
    "        subcursor %= m\n",
    "\n",
    "        print(\"\"\"\n",
    "Commands:\n",
    "- [Enter]       | Repeat last command\n",
    "- n             | Next cell type\n",
    "- p             | Previous cell type\n",
    "- [Cell Type]   | Jump to specific cell type by name\n",
    "- [Number]      | Jump to specific cell type by index\n",
    "- c+            | Next cell instance within type\n",
    "- c-            | Previous cell instance within type\n",
    "- c[Number]     | Jump to specific cell instance (e.g., c5)\n",
    "- q             | Quit\n",
    "___________________________________________________________\n",
    "\n",
    "Legend:\n",
    "- Green points  | Cell type representative vias\n",
    "- Red points    | Vias of the actual cell\n",
    "        \"\"\")\n",
    "\n",
    "        display_cell(cursor, subcursor, fig, ax)\n",
    "        \n",
    "        key = input(\"Enter a command\")\n",
    "        \n",
    "        if key == allowed_inputs['enter']:\n",
    "            key = last_command\n",
    "\n",
    "        if re.fullmatch(allowed_inputs['next'], key):\n",
    "            cursor += 1\n",
    "        elif re.fullmatch(allowed_inputs['prev'], key):\n",
    "            cursor -= 1\n",
    "        elif re.fullmatch(allowed_inputs['jump'], key):\n",
    "            cursor = int(key) - 1\n",
    "        elif re.fullmatch(allowed_inputs['next_cell'], key):\n",
    "            subcursor += 1\n",
    "        elif re.fullmatch(allowed_inputs['prev_cell'], key):\n",
    "            subcursor -= 1\n",
    "        elif re.fullmatch(allowed_inputs['jump_cell'], key):\n",
    "            subcursor = int(key[1:]) - 1\n",
    "        elif key in sorted_cells:\n",
    "            cursor = cell_types.index(key)\n",
    "        elif re.fullmatch(allowed_inputs['quit'], key):\n",
    "            break\n",
    "        else:\n",
    "            key = allowed_inputs['enter']\n",
    "        \n",
    "        last_command = key"
   ]
  },
  {
   "cell_type": "code",
   "execution_count": 262,
   "id": "3241d5a1",
   "metadata": {},
   "outputs": [
    {
     "data": {
      "image/png": "[encoded data removed]",
      "text/plain": [
       "<Figure size 640x480 with 1 Axes>"
      ]
     },
     "metadata": {},
     "output_type": "display_data"
    }
   ],
   "source": [
    "visualize_cells()"
   ]
  },
  {
   "cell_type": "markdown",
   "id": "23f3bb28",
   "metadata": {},
   "source": [
    "## Identification of point clouds via distance measures"
   ]
  },
  {
   "cell_type": "markdown",
   "id": "52928052",
   "metadata": {},
   "source": [
    "### Earth Mover's Distance (EMD)"
   ]
  }
 ],
 "metadata": {
  "kernelspec": {
   "display_name": "Python 3",
   "language": "python",
   "name": "python3"
  },
  "language_info": {
   "codemirror_mode": {
    "name": "ipython",
    "version": 3
   },
   "file_extension": ".py",
   "mimetype": "text/x-python",
   "name": "python",
   "nbconvert_exporter": "python",
   "pygments_lexer": "ipython3",
   "version": "3.12.7"
  }
 },
 "nbformat": 4,
 "nbformat_minor": 5
}
